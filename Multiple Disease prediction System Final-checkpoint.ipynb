{
 "cells": [
  {
   "cell_type": "code",
   "execution_count": 1,
   "id": "80d386f5",
   "metadata": {},
   "outputs": [],
   "source": [
    "import pickle"
   ]
  },
  {
   "cell_type": "code",
   "execution_count": 3,
   "id": "aa403973",
   "metadata": {},
   "outputs": [],
   "source": [
    "import streamlit as st"
   ]
  },
  {
   "cell_type": "code",
   "execution_count": 4,
   "id": "6e48225a",
   "metadata": {},
   "outputs": [],
   "source": [
    "from streamlit_option_menu import option_menu\n"
   ]
  },
  {
   "cell_type": "code",
   "execution_count": null,
   "id": "93b97aec",
   "metadata": {},
   "outputs": [],
   "source": []
  },
  {
   "cell_type": "code",
   "execution_count": 8,
   "id": "df384177",
   "metadata": {},
   "outputs": [],
   "source": [
    "with open(\"C:/Users/Asus/Desktop/Multiple Disease prediction system/saved models/diabetes_model.sav\", 'rb') as file:\n",
    "    diabetes_model = pickle.load(file)"
   ]
  },
  {
   "cell_type": "code",
   "execution_count": 9,
   "id": "091b6e00",
   "metadata": {},
   "outputs": [],
   "source": [
    "with open(\"C:/Users/Asus/Desktop/Multiple Disease prediction system/saved models/heart_model.sav\", 'rb') as file:\n",
    "    heart_disease_model = pickle.load(file)"
   ]
  },
  {
   "cell_type": "code",
   "execution_count": 10,
   "id": "c8fccce8",
   "metadata": {},
   "outputs": [
    {
     "name": "stderr",
     "output_type": "stream",
     "text": [
      "2023-10-02 10:47:55.780 WARNING streamlit.runtime.state.session_state_proxy: Session state does not function when running a script without `streamlit run`\n",
      "2023-10-02 10:47:56.019 \n",
      "  \u001b[33m\u001b[1mWarning:\u001b[0m to view this Streamlit app on a browser, run it with the following\n",
      "  command:\n",
      "\n",
      "    streamlit run C:\\Users\\Asus\\anaconda3\\lib\\site-packages\\ipykernel_launcher.py [ARGUMENTS]\n"
     ]
    }
   ],
   "source": [
    "with st.sidebar:\n",
    "    selected = option_menu('Multiple Disease Prediction System',\n",
    "                          ['Diabetes Prediction',\n",
    "                          'Heart Disease Prediction'],\n",
    "                          default_index = 0)"
   ]
  },
  {
   "cell_type": "code",
   "execution_count": 13,
   "id": "b8bc2220",
   "metadata": {},
   "outputs": [],
   "source": [
    "if(selected == 'Diabetes Prediction'):\n",
    "    st.title('Diabetes Prediction Using ML')\n",
    "    \n",
    "    # getting the input data from the user\n",
    "    col1, col2, col3 = st.columns(3)\n",
    "    \n",
    "    with col1:\n",
    "        Pregnancies = st.text_input('Number of Pregnancies')\n",
    "        \n",
    "    with col2:\n",
    "        Glucose = st.text_input('Glucose Level')\n",
    "    \n",
    "    with col3:\n",
    "        BloodPressure = st.text_input('Blood Pressure value')\n",
    "    \n",
    "    with col1:\n",
    "        SkinThickness = st.text_input('Skin Thickness value')\n",
    "    \n",
    "    with col2:\n",
    "        Insulin = st.text_input('Insulin Level')\n",
    "    \n",
    "    with col3:\n",
    "        BMI = st.text_input('BMI value')\n",
    "    \n",
    "    with col1:\n",
    "        DiabetesPedigreeFunction = st.text_input('Diabetes Pedigree Function value')\n",
    "    \n",
    "    with col2:\n",
    "        Age = st.text_input('Age of the Person')\n",
    "    \n",
    "    \n",
    "    # code for Prediction\n",
    "    diab_diagnosis = ''\n",
    "    \n",
    "    # creating a button for Prediction\n",
    "    \n",
    "    if st.button('Diabetes Test Result'):\n",
    "        diab_prediction = diabetes_model.predict([[Pregnancies, Glucose, BloodPressure, SkinThickness, Insulin, BMI, DiabetesPedigreeFunction, Age]])\n",
    "        \n",
    "        if (diab_prediction[0] == 1):\n",
    "            diab_diagnosis = 'The person is diabetic'\n",
    "        else:\n",
    "            diab_diagnosis = 'The person is not diabetic'\n",
    "        \n",
    "    st.success(diab_diagnosis)\n",
    "\n",
    "    \n",
    "    \n",
    "    \n",
    "    \n",
    "    \n",
    "if(selected == 'Heart Disease Prediction'):\n",
    "    st.title(\"Heart Disease Prediction Using ML\")\n",
    "    \n",
    "    \n",
    "    \n",
    "    col1, col2, col3 = st.columns(3)\n",
    "    \n",
    "    with col1:\n",
    "        male = st.number_input('Sex')\n",
    "        \n",
    "    with col2:\n",
    "        \n",
    "        age = st.number_input('Age')\n",
    "        \n",
    "    with col3:\n",
    "        \n",
    "        currentSmoker = st.number_input('current Smoking status')\n",
    "        \n",
    "    with col1:\n",
    "        cigsPerDay = st.number_input('cigsPerDay')\n",
    "        \n",
    "    with col2:\n",
    "        BPMeds = st.number_input('BPMeds')\n",
    "        \n",
    "    with col3:\n",
    "        prevalentStroke = st.number_input('prevalentStroke')\n",
    "        \n",
    "    with col1:\n",
    "        prevalentHyp = st.number_input('prevalentHyp')\n",
    "        \n",
    "    with col2:\n",
    "        diabetes = st.number_input('diabetes')\n",
    "        \n",
    "    with col3:\n",
    "        totChol = st.number_input('totChol')\n",
    "        \n",
    "    with col1:\n",
    "        sysBP = st.number_input('sysBP')\n",
    "        \n",
    "    with col2:\n",
    "        diaBP = st.number_input('diaBP')\n",
    "        \n",
    "    with col3:\n",
    "        BMI = st.number_input('BMI')\n",
    "        \n",
    "    with col1:\n",
    "        heartRate = st.number_input('heartRate')\n",
    "    \n",
    "    with col2:\n",
    "        glucose = st.number_input('glucose')\n",
    "        \n",
    "        \n",
    "     \n",
    "     \n",
    "    # code for Prediction\n",
    "    heart_diagnosis = ''\n",
    "    \n",
    "    # creating a button for Prediction\n",
    "    \n",
    "    if st.button('Heart Disease Test Result'):\n",
    "        heart_prediction = heart_disease_model.predict([[male, age, currentSmoker, cigsPerDay, BPMeds, prevalentStroke, prevalentHyp, diabetes, totChol, sysBP, diaBP, BMI, heartRate, glucose]])                          \n",
    "        \n",
    "        if (heart_prediction[0] == 1):\n",
    "            heart_diagnosis = 'The person is having heart disease'\n",
    "        else:\n",
    "            heart_diagnosis = 'The person does not have any heart disease'\n",
    "        \n",
    "    st.success(heart_diagnosis)"
   ]
  },
  {
   "cell_type": "code",
   "execution_count": null,
   "id": "3f4174a2",
   "metadata": {},
   "outputs": [],
   "source": []
  }
 ],
 "metadata": {
  "kernelspec": {
   "display_name": "Python 3 (ipykernel)",
   "language": "python",
   "name": "python3"
  },
  "language_info": {
   "codemirror_mode": {
    "name": "ipython",
    "version": 3
   },
   "file_extension": ".py",
   "mimetype": "text/x-python",
   "name": "python",
   "nbconvert_exporter": "python",
   "pygments_lexer": "ipython3",
   "version": "3.10.9"
  }
 },
 "nbformat": 4,
 "nbformat_minor": 5
}
